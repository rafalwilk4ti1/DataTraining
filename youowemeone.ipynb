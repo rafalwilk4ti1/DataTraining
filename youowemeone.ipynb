{
 "cells": [
  {
   "cell_type": "markdown",
   "metadata": {},
   "source": [
    "### Import libraries"
   ]
  },
  {
   "cell_type": "code",
   "execution_count": 432,
   "metadata": {},
   "outputs": [],
   "source": [
    "import pandas as pd\n",
    "from faker import Faker\n",
    "import numpy as np\n",
    "import time\n",
    "import sqlite3\n",
    "from datetime import datetime\n",
    "from typing import Callable, Any"
   ]
  },
  {
   "cell_type": "markdown",
   "metadata": {},
   "source": [
    "### Create generate_ssn function"
   ]
  },
  {
   "cell_type": "code",
   "execution_count": 419,
   "metadata": {},
   "outputs": [
    {
     "data": {
      "text/plain": [
       "1     02300484917\n",
       "2     00321254096\n",
       "3     89022258644\n",
       "4     93080450522\n",
       "5     90022641716\n",
       "6     17282159254\n",
       "7     93060594899\n",
       "8     82101075882\n",
       "9     02282916435\n",
       "10    84061734403\n",
       "dtype: object"
      ]
     },
     "execution_count": 419,
     "metadata": {},
     "output_type": "execute_result"
    }
   ],
   "source": [
    "def generate_ssn(\n",
    "    num_of_records: int\n",
    ") -> pd.Series:\n",
    "    \n",
    "    \"\"\"\n",
    "     Returns Series object contains PESEL numbers.\n",
    "     Number of records is defined by parameter. \n",
    "    \n",
    "    \"\"\"\n",
    "    faker_pl = Faker('pl_PL')\n",
    "    pesel_list = []\n",
    "\n",
    "    for num in range(num_of_records):\n",
    "        pesel_list.append(faker_pl.ssn())\n",
    "\n",
    "    pesel_arr = np.array(pesel_list)\n",
    "\n",
    "    pesel_series = pd.Series(pesel_arr)\n",
    "    pesel_series.index +=1\n",
    "\n",
    "    return pesel_series\n",
    "\n",
    "\n",
    "generate_ssn(10)\n"
   ]
  },
  {
   "cell_type": "markdown",
   "metadata": {},
   "source": []
  },
  {
   "cell_type": "markdown",
   "metadata": {},
   "source": [
    "### Create generate_unique_ssns function"
   ]
  },
  {
   "cell_type": "code",
   "execution_count": null,
   "metadata": {},
   "outputs": [
    {
     "name": "stdout",
     "output_type": "stream",
     "text": [
      "0      90010354897\n",
      "1      90011294051\n",
      "2      90011842858\n",
      "3      90010608255\n",
      "4      90011103179\n",
      "          ...     \n",
      "995    90010760139\n",
      "996    90010506539\n",
      "997    90010317874\n",
      "998    90010380397\n",
      "999    90011043877\n",
      "Length: 1000, dtype: object\n"
     ]
    }
   ],
   "source": [
    "# It has the form YYMMDDZZZXQ, where YYMMDD is the date of birth (with century encoded in month field), ZZZ is the personal identification number,\n",
    "#  X denotes sex (even for females, odd for males) and Q is a parity number.\n",
    "\n",
    "def generate_unique_ssns(\n",
    "    num_rec: int,\n",
    "    gender: str,\n",
    "    range_date: str\n",
    ") -> pd.Series:\n",
    "\n",
    "    \"\"\"\n",
    "    Returns Series object contains pesel numbers according to\n",
    "    gender and date range given as parameters.\n",
    "\n",
    "    We assume format of range_date as var = 'yyyymmdd, yyyymmdd'.\n",
    "    We also assume gender must equals to == 'male' or 'female'.\n",
    "\n",
    "    \"\"\"\n",
    "    months_for_19 = [str(x) for x in range(81,93)]\n",
    "    months_for_20 = ['%.2d' % x for x in range(0, 13)]\n",
    "    months_for_21 = [str(x) for x in range(21, 33)]\n",
    "\n",
    "    even_numbers = [2,4,6,8]\n",
    "    odd_numbers = [1,3,5,7,9]\n",
    "\n",
    "    faker_pl = Faker('pl_PL')\n",
    "\n",
    "    pesel_list_female = []\n",
    "    pesel_list_male = []  \n",
    "\n",
    "    # while len(pesel_list_female) == num_rec or \\\n",
    "    #     len(pesel_list_male) == num_rec:\n",
    "    run = True\n",
    "\n",
    "    while run == True:\n",
    "        number_pesel = faker_pl.ssn()\n",
    "        day = str(number_pesel[4:6])\n",
    "        year = number_pesel[:2]\n",
    "        new_date = ''\n",
    "\n",
    "        if number_pesel[2:4] in months_for_19:\n",
    "            new_date += year +'/'\n",
    "\n",
    "            if int(number_pesel[2:4]) >= 90:\n",
    "                new_month = str(1) + str(number_pesel[3])\n",
    "                new_date += new_month+'/'\n",
    "                new_date += day\n",
    "            \n",
    "            elif int(number_pesel[2:4]) < 90:\n",
    "                new_month = str(0) + str(number_pesel[3])\n",
    "                new_date += new_month+'/'\n",
    "                new_date += day\n",
    "\n",
    "        elif number_pesel[2:4] in months_for_21:\n",
    "            new_date += year +'/'\n",
    "            \n",
    "            if int(number_pesel[2:4]) >= 30:\n",
    "                new_month = str(1) + str(number_pesel[3])\n",
    "                new_date += new_month+'/'\n",
    "                new_date += day\n",
    "            \n",
    "            elif int(number_pesel[2:4]) < 30:\n",
    "                new_month = str(0) + str(number_pesel[3])\n",
    "                new_date += new_month+'/'\n",
    "                new_date += day\n",
    "        else:\n",
    "            new_month = str(number_pesel[2:4])\n",
    "            new_date += year+ '/'+new_month +'/'\n",
    "            new_date += day\n",
    "        \n",
    "    \n",
    "\n",
    "        \n",
    "        date_time_obj = datetime.strptime(new_date, '%y/%m/%d')\n",
    "        \n",
    "        start_date = range_date[:2] +'/'+ range_date[2:4] +'/' \\\n",
    "                     + range_date[4:6]\n",
    "\n",
    "        start_date_obj = datetime.strptime(start_date, '%y/%m/%d')\n",
    "        end_date = range_date[8:10] + '/' + range_date[10:12] + '/' \\\n",
    "                   + range_date[-2:]\n",
    "        end_date_obj = datetime.strptime(end_date, '%y/%m/%d')\n",
    "    \n",
    "        if date_time_obj <= end_date_obj \\\n",
    "            and date_time_obj >= start_date_obj:\n",
    "            \n",
    "            if int(number_pesel[-2]) in even_numbers:\n",
    "                pesel_list_female.append(number_pesel)\n",
    "                if len(pesel_list_female) == num_rec and gender == 'female':\n",
    "                    break\n",
    "\n",
    "            if int(number_pesel[-2]) in odd_numbers:\n",
    "                pesel_list_male.append(number_pesel)\n",
    "                if len(pesel_list_male) == num_rec and gender == 'male':\n",
    "                    break\n",
    "                \n",
    "    if gender == 'female':\n",
    "        pesel_list_female = np.array(pesel_list_female)\n",
    "        pesel_series = pd.Series(pesel_list_female)\n",
    "        \n",
    "    elif gender == 'male':\n",
    "        pesel_list_male = np.array(pesel_list_male)\n",
    "        pesel_series = pd.Series(pesel_list_male)\n",
    "\n",
    "\n",
    "    return pesel_series"
   ]
  },
  {
   "cell_type": "markdown",
   "metadata": {},
   "source": [
    "### Count performance of created functions given for given number 1 000, 10 000 i 100 000"
   ]
  },
  {
   "cell_type": "code",
   "execution_count": 421,
   "metadata": {},
   "outputs": [],
   "source": [
    "def count_performance_generate_ssns(\n",
    "    function: Callable,\n",
    "    rec_par:int\n",
    "    ):\n",
    "    \"\"\"\n",
    "    Count performance of generate_ssns.\n",
    "    Returns time.\n",
    "    \"\"\"\n",
    "    \n",
    "    t_start = time.process_time()\n",
    "    function(rec_par)\n",
    "    elapsed_time = time.process_time() - t_start\n",
    "    print('Time performance of ' +str(function) ,'for ' + str(rec_par) \\\n",
    "          + ' records is equal to ' + str(elapsed_time))\n"
   ]
  },
  {
   "cell_type": "code",
   "execution_count": 423,
   "metadata": {},
   "outputs": [],
   "source": [
    "def count_performance_generate_unique_ssns(\n",
    "    function: Callable,\n",
    "    num_rec: int,\n",
    "    gender: str,\n",
    "    range_date: str,\n",
    "    ):\n",
    "    \n",
    "    \"\"\"\n",
    "    Function takes the same assumptions like the tested function.\n",
    "    \"\"\"\n",
    "\n",
    "    t_start = time.process_time()\n",
    "    function(num_rec, gender, range_date)\n",
    "    elapsed_time = time.process_time() - t_start\n",
    "    return f'Time performance of {function} for {num_rec} is \\\n",
    "             equal to{elapsed_time}'\n"
   ]
  },
  {
   "cell_type": "code",
   "execution_count": 422,
   "metadata": {},
   "outputs": [
    {
     "name": "stdout",
     "output_type": "stream",
     "text": [
      "Time performance of <function generate_ssn at 0x7faf029d8d30> for 1000 records is equal to 0.03945665800000597\n",
      "Time performance of <function generate_ssn at 0x7faf029d8d30> for 10000 records is equal to 0.23761146900000085\n",
      "Time performance of <function generate_ssn at 0x7faf029d8d30> for 100000 records is equal to 2.1333475019999923\n"
     ]
    }
   ],
   "source": [
    "count_performance_generate_ssns(generate_ssn, 1000)\n",
    "count_performance_generate_ssns(generate_ssn, 10000)\n",
    "count_performance_generate_ssns(generate_ssn, 100000)"
   ]
  },
  {
   "cell_type": "code",
   "execution_count": 430,
   "metadata": {},
   "outputs": [
    {
     "data": {
      "text/plain": [
       "'Time performance of <function generate_unique_ssns at 0x7faf01463b80> for 1000              is equal to115.79038496900012'"
      ]
     },
     "execution_count": 430,
     "metadata": {},
     "output_type": "execute_result"
    }
   ],
   "source": [
    "count_performance_generate_unique_ssns(generate_unique_ssns, 1000, 'female', '900101, 900119' )\n",
    "count_performance_generate_unique_ssns(generate_unique_ssns, 10000, 'female', '900101, 900119' )\n",
    "count_performance_generate_unique_ssns(generate_unique_ssns, 100000, 'female', '900101, 900119' )"
   ]
  },
  {
   "cell_type": "markdown",
   "metadata": {},
   "source": [
    "### Create validate_ssn"
   ]
  },
  {
   "cell_type": "code",
   "execution_count": 482,
   "metadata": {},
   "outputs": [
    {
     "name": "stdout",
     "output_type": "stream",
     "text": [
      "True\n",
      "True\n",
      "True\n",
      "True\n",
      "True\n"
     ]
    }
   ],
   "source": [
    "pesel = '00271704012'\n",
    "\n",
    "def validate_ssn(\n",
    "    number_pesel: str,\n",
    "    expect_gen: str,\n",
    "    data_of_birth: str\n",
    "    ) -> Any:\n",
    "    \"\"\"\n",
    "    Function returns boolean object, depends of provided parameters.\n",
    "    We assume that data format will be yy/mm/dd.\n",
    "    \"\"\"\n",
    "    answer = True\n",
    "\n",
    "    even_numbers = [2,4,6,8]\n",
    "    odd_numbers = [1,3,5,7,9]\n",
    "\n",
    "    if expect_gen == 'male' and not int(number_pesel[-2]) in odd_numbers:\n",
    "        answer = False\n",
    "\n",
    "    if expect_gen == 'female' and not int(number_pesel[-2]) in even_numbers:\n",
    "        answer = False \n",
    "\n",
    "\n",
    "    months_for_19 = [str(x) for x in range(81,93)]\n",
    "    months_for_21 = [str(x) for x in range(21, 33)]\n",
    "\n",
    "    \n",
    "    day = str(number_pesel[4:6])\n",
    "    year = number_pesel[:2]\n",
    "    new_date = ''\n",
    "\n",
    "    if number_pesel[2:4] in months_for_19:\n",
    "        new_date += year +'/'\n",
    "\n",
    "        if int(number_pesel[2:4]) >= 90:\n",
    "            new_month = str(1) + str(number_pesel[3])\n",
    "            new_date += new_month+'/'\n",
    "            new_date += day\n",
    "        \n",
    "        elif int(number_pesel[2:4]) < 90:\n",
    "            new_month = str(0) + str(number_pesel[3])\n",
    "            new_date += new_month+'/'\n",
    "            new_date += day\n",
    "\n",
    "    elif number_pesel[2:4] in months_for_21:\n",
    "        new_date += year +'/'\n",
    "        \n",
    "        if int(number_pesel[2:4]) >= 30:\n",
    "            new_month = str(1) + str(number_pesel[3])\n",
    "            new_date += new_month+'/'\n",
    "            new_date += day\n",
    "        \n",
    "        elif int(number_pesel[2:4]) < 30:\n",
    "            new_month = str(0) + str(number_pesel[3])\n",
    "            new_date += new_month+'/'\n",
    "            new_date += day\n",
    "    else:\n",
    "        new_month = str(number_pesel[2:4])\n",
    "        new_date += year+ '/'+new_month +'/'\n",
    "        new_date += day\n",
    "    \n",
    "    if new_date != data_of_birth:\n",
    "        answer = False\n",
    "\n",
    "    return answer\n",
    "\n",
    "\n",
    "\n",
    "print(validate_ssn('90011842858', 'male', '90/01/18'))\n",
    "print(validate_ssn('90011103179', 'male', '90/01/11'))\n",
    "print(validate_ssn('90010608255', 'male', '90/01/06'))\n",
    "print(validate_ssn('02211008561', 'female','02/01/10'))\n",
    "print(validate_ssn('00271704012', 'male', '00/07/17'))"
   ]
  },
  {
   "cell_type": "markdown",
   "metadata": {},
   "source": [
    "### Create database and connection"
   ]
  },
  {
   "cell_type": "code",
   "execution_count": 22,
   "metadata": {},
   "outputs": [],
   "source": [
    "# Create database\n",
    "con = sqlite3.connect('flight.db')\n",
    "\n",
    "# Create cursor in order to permorm SQL commands\n",
    "cur = con.cursor()\n",
    "\n",
    "# Create FlightLeg table with specified columns\n",
    "cur.execute(\n",
    "    '''\n",
    "    CREATE TABLE FlightLeg ( \n",
    "    id INTEGER PRIMARY KEY AUTOINCREMENT,\n",
    "    tailNumber text,\n",
    "    source_airport_code INTEGER,\n",
    "    source_country_code text,\n",
    "    destination_airport_code text,\n",
    "    destination_country_code text,\n",
    "    departure_time text,\n",
    "    landing_time text\n",
    "    )\n",
    "    ''')\n",
    "\n",
    "con.close()"
   ]
  },
  {
   "cell_type": "markdown",
   "metadata": {},
   "source": [
    "### Insert data from csv file"
   ]
  },
  {
   "cell_type": "code",
   "execution_count": 24,
   "metadata": {},
   "outputs": [],
   "source": [
    "con = sqlite3.connect('flight.db')\n",
    "\n",
    "cur = con.cursor()\n",
    "\n",
    "flight_df = pd.read_csv('flightlegs.csv', delimiter=';')\\\n",
    "              .to_sql('temporary_table2', con)\n",
    "\n",
    "cur.execute(\n",
    "    '''\n",
    "    INSERT INTO FlightLeg \n",
    "    SELECT *\n",
    "    FROM temporary_table2\n",
    "    '''\n",
    "    )\n",
    "\n",
    "con.commit()\n",
    "\n",
    "con.close()\n"
   ]
  },
  {
   "cell_type": "markdown",
   "metadata": {},
   "source": [
    "### Create two columns and update their values"
   ]
  },
  {
   "cell_type": "code",
   "execution_count": 57,
   "metadata": {},
   "outputs": [],
   "source": [
    "con = sqlite3.connect('flight.db')\n",
    "\n",
    "cur = con.cursor()\n",
    "\n",
    "# Add flightDuration column\n",
    "cur.execute(\n",
    "    '''\n",
    "    ALTER TABLE FlightLeg \n",
    "    ADD COLUMN flightDuration INTEGER\n",
    "    '''\n",
    "    )\n",
    "\n",
    "# Add flightType column\n",
    "cur.execute(\n",
    "    '''\n",
    "    ALTER TABLE FlightLeg\n",
    "    ADD COLUMN flightType INTEGER\n",
    "    '''\n",
    "    )\n",
    "\n",
    "# Count duration of flight in minutes \n",
    "cur.execute(\n",
    "    '''\n",
    "    UPDATE FlightLeg \n",
    "    SET flightDuration = \n",
    "    CAST(\n",
    "    ROUND(((\n",
    "    JULIANDAY(landing_time)\n",
    "    - JULIANDAY(departure_time)) *86400 )/60) as  INT  )\n",
    "    '''\n",
    "    )\n",
    "\n",
    "# Make flightType column out with values \n",
    "cur.execute(\n",
    "    '''\n",
    "    UPDATE FlightLeg\n",
    "    SET flightType = 'D' \n",
    "    WHERE source_country_code == destination_country_code\n",
    "    '''\n",
    "    )\n",
    "\n",
    "cur.execute(\n",
    "    '''\n",
    "    UPDATE FlightLeg\n",
    "    SET flightType = 'I'\n",
    "    WHERE source_country_code != destination_country_code\n",
    "    '''\n",
    "    )\n",
    "\n",
    "con.commit()\n",
    "con.close()"
   ]
  },
  {
   "cell_type": "markdown",
   "metadata": {},
   "source": [
    "### 4.1, 4.2, 4.3"
   ]
  },
  {
   "cell_type": "code",
   "execution_count": 72,
   "metadata": {},
   "outputs": [
    {
     "name": "stdout",
     "output_type": "stream",
     "text": [
      "(7, 'A6-ENS', 'DXB', 'ARE', 'SEZ', 'SYC', '2021-11-30 22:39:38', '2021-12-01 02:41:00', 241, 'I', 13)\n",
      "(1, 'A6-ENE', 'ACC', 'GHA', 'ABJ', 'CIV', '2021-11-29 13:35:00', '2021-11-29 14:17:00', 42, 'I', 13)\n",
      "(70, 'A6-ENJ', 'BEY', 'LBN', 'DXB', 'ARE', '2021-11-29 17:09:45', '2021-11-29 20:39:00', 209, 'I', 12)\n",
      "[(6, 'A6-EVF', 'DXB', 'ARE', 'JFK', 'USA', '2021-11-30 22:57:00', '2021-12-01 13:01:00', 844, 'I', 3426)]\n",
      "\n",
      "The plane which flew the most minutes in international flights, \n",
      " [('A6-EVF', 3426)]\n",
      "\n",
      "The plane which flew least minutes in international flights, \n",
      " [('A6-EUR', 293)]\n",
      "\n",
      "The plane which flew the most minutes in domestic flights, \n",
      " [('A6-EPO', 136)]\n",
      "\n",
      "The plane which flew least minutes in domestic flights, \n",
      " [('A6-ECH', 61)]\n"
     ]
    }
   ],
   "source": [
    "con = sqlite3.connect('flight.db')\n",
    "\n",
    "cur = con.cursor()\n",
    "\n",
    "# Which plane did execute the most flights?\n",
    "\n",
    "cur.execute(\n",
    "    '''\n",
    "    SELECT *,count(tailNumber) as 'number_of_flights'\n",
    "    FROM FlightLeg \n",
    "    GROUP BY tailNumber \n",
    "    ORDER BY number_of_flights \n",
    "    DESC\n",
    "    LIMIT 3\n",
    "    '''\n",
    "    )\n",
    "\n",
    "# Displaying result of three planes to show that answer is correct.\n",
    "# Two planes achieved draft in number of executed flights.\n",
    "\n",
    "for plane in cur.fetchall():\n",
    "    print(plane)\n",
    "\n",
    "# Which plane had flown the most minutes? \n",
    "\n",
    "cur.execute(\n",
    "    '''\n",
    "    SELECT *, sum(flightDuration)\n",
    "    FROM FlightLeg\n",
    "    GROUP BY tailNumber\n",
    "    ORDER BY sum(flightDuration) DESC \n",
    "    LIMIT 1\n",
    "    '''\n",
    "    )\n",
    "\n",
    "print(cur.fetchall())\n",
    "\n",
    "# Which flight considering domestic and national was the shortest,\n",
    "# and which one the longest and how many minutes last?\n",
    "\n",
    "cur.execute(\n",
    "    '''\n",
    "    SELECT tailNumber, sum(flightDuration)\n",
    "    FROM FlightLeg WHERE flightType = 'I'\n",
    "    GROUP BY tailNumber\n",
    "    ORDER BY sum(flightDuration) DESC\n",
    "    LIMIT 1\n",
    "    '''\n",
    "    )\n",
    "\n",
    "print('\\nThe plane which flew most minutes in international flights,\\n',\\\n",
    "    cur.fetchall())\n",
    "\n",
    "cur.execute(\n",
    "    '''\n",
    "    SELECT tailNumber, sum(flightDuration)\n",
    "    FROM FlightLeg WHERE flightType = 'I'\n",
    "    GROUP BY tailNumber\n",
    "    ORDER BY sum(flightDuration)\n",
    "    LIMIT 1\n",
    "    '''\n",
    "    )\n",
    "\n",
    "print('\\nThe plane which flew least minutes in international flights, \\n',\\\n",
    "    cur.fetchall())\n",
    "\n",
    "cur.execute(\n",
    "    '''\n",
    "    SELECT tailNumber, sum(flightDuration)\n",
    "    FROM FlightLeg WHERE flightType = 'D'\n",
    "    GROUP BY tailNumber\n",
    "    ORDER BY sum(flightDuration) DESC\n",
    "    LIMIT 1\n",
    "    '''\n",
    "    )\n",
    "\n",
    "print('\\nThe plane which flew the most minutes in domestic flights, \\n',\\\n",
    "    cur.fetchall())\n",
    "\n",
    "\n",
    "cur.execute(\n",
    "    '''\n",
    "    SELECT tailNumber, sum(flightDuration)\n",
    "    FROM FlightLeg WHERE flightType = 'D'\n",
    "    GROUP BY tailNumber\n",
    "    ORDER BY sum(flightDuration)\n",
    "    LIMIT 1\n",
    "    '''\n",
    "    )\n",
    "\n",
    "print('\\nThe plane which flew least minutes in domestic flights, \\n',\\\n",
    "    cur.fetchall())\n",
    "\n",
    "\n",
    "con.close()"
   ]
  },
  {
   "cell_type": "markdown",
   "metadata": {},
   "source": [
    "###  4.4 Ile jest błędnych rekordów opisujących loty, które wskazują, że samolot wykonywał więcej niż jeden lot jednocześnie? Wyświetl wszystkie pary takich konfliktowych lotów. "
   ]
  },
  {
   "cell_type": "code",
   "execution_count": 77,
   "metadata": {},
   "outputs": [
    {
     "name": "stdout",
     "output_type": "stream",
     "text": [
      "[(499, 'A6-ECS', 'EWR', 'USA', 'ATH', 'GRC', '2021-11-30 05:14:44', '2021-11-30 15:50:00', 635, 'I', '2021-11-30 15:45:00')]\n"
     ]
    }
   ],
   "source": [
    "con = sqlite3.connect('flight.db')\n",
    "\n",
    "cur = con.cursor()\n",
    "\n",
    "# This is the only plane that has invalid data\n",
    "\n",
    "cur.execute(\n",
    "    '''\n",
    "    WITH test_query AS \n",
    "    (SELECT *,lag(departure_time,1)\n",
    "    OVER (PARTITION BY tailNumber\n",
    "    ORDER BY departure_time DESC)\n",
    "    last_flight_time \n",
    "    FROM  FlightLeg)\n",
    "    SELECT * \n",
    "    FROM test_query \n",
    "    WHERE last_flight_time < landing_time \n",
    "    OR landing_time > last_flight_time\n",
    "    '''\n",
    "    )\n",
    "print(cur.fetchall())\n",
    "\n",
    "\n",
    "con.close()"
   ]
  },
  {
   "cell_type": "markdown",
   "metadata": {},
   "source": [
    "### 4.5.Odstęp pomiędzy którymi lotami tego samego dowolnego samolotu był najkrótszy i ile minut trwał? "
   ]
  },
  {
   "cell_type": "code",
   "execution_count": 76,
   "metadata": {},
   "outputs": [
    {
     "name": "stdout",
     "output_type": "stream",
     "text": [
      "(985, 'A6-EBK', 'DXB', 'ARE', 'CPH', 'DNK', '2021-11-30 23:11:00', '2021-12-01 05:46:00', 395, 'I', None, None)\n",
      "(969, 'A6-EBK', 'ORD', 'USA', 'DXB', 'ARE', '2021-11-29 18:25:52', '2021-11-30 07:14:00', 768, 'I', '2021-11-30 23:11:00', 957)\n",
      "(141, 'A6-EBK', 'DXB', 'ARE', 'ORD', 'USA', '2021-11-28 22:40:00', '2021-11-29 12:58:00', 858, 'I', '2021-11-29 18:25:52', 328)\n",
      "(467, 'A6-EBK', 'LCK', 'USA', 'DXB', 'ARE', '2021-11-27 23:24:00', '2021-11-28 12:26:00', 782, 'I', '2021-11-28 22:40:00', 614)\n"
     ]
    }
   ],
   "source": [
    "con = sqlite3.connect('flight.db')\n",
    "\n",
    "cur = con.cursor()\n",
    "\n",
    "# The time between flights was calculated for plane with \n",
    "# tailNumber =  A6-EBK\n",
    "\n",
    "cur.execute(\n",
    "    '''\n",
    "    WITH test_query \n",
    "    AS (SELECT *,lag(departure_time,1)\n",
    "    OVER (PARTITION BY tailNumber\n",
    "    ORDER BY departure_time DESC)\n",
    "    last_flight_time \n",
    "    FROM  FlightLeg)\n",
    "    SELECT *,\n",
    "    CAST(\n",
    "    ROUND(((JULIANDAY(last_flight_time)- \n",
    "    JULIANDAY(landing_time)) *86400 )/60) as INT)\n",
    "    as 'time_between'\n",
    "    FROM test_query \n",
    "    WHERE tailNumber = 'A6-EBK'\n",
    "    '''\n",
    "    )\n",
    "\n",
    "for plane in cur.fetchall():\n",
    "    print(plane)\n",
    "\n",
    "print('The least amount of time is equal to 328 minutes.')\n",
    "\n",
    "con.close()"
   ]
  }
 ],
 "metadata": {
  "interpreter": {
   "hash": "916dbcbb3f70747c44a77c7bcd40155683ae19c65e1c03b4aa3499c5328201f1"
  },
  "kernelspec": {
   "display_name": "Python 3.8.10 64-bit",
   "name": "python3"
  },
  "language_info": {
   "codemirror_mode": {
    "name": "ipython",
    "version": 3
   },
   "file_extension": ".py",
   "mimetype": "text/x-python",
   "name": "python",
   "nbconvert_exporter": "python",
   "pygments_lexer": "ipython3",
   "version": "3.8.10"
  },
  "orig_nbformat": 4
 },
 "nbformat": 4,
 "nbformat_minor": 2
}
